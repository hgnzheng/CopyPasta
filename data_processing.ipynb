{
 "cells": [
  {
   "cell_type": "code",
   "execution_count": 1,
   "metadata": {},
   "outputs": [],
   "source": [
    "import pandas as pd\n",
    "import json"
   ]
  },
  {
   "cell_type": "code",
   "execution_count": 2,
   "metadata": {},
   "outputs": [],
   "source": [
    "df = pd.read_csv('data/data.csv')"
   ]
  },
  {
   "cell_type": "code",
   "execution_count": 3,
   "metadata": {},
   "outputs": [],
   "source": [
    "df['dx'] = df['dx'].str.strip().str.lower()"
   ]
  },
  {
   "cell_type": "code",
   "execution_count": 4,
   "metadata": {},
   "outputs": [
    {
     "data": {
      "text/plain": [
       "dx\n",
       "early gastric cancer                        366\n",
       "rectal cancer                               270\n",
       "hepatocellular carcinoma                    247\n",
       "colon cancer, sigmoid                       207\n",
       "thyroid nodule                              202\n",
       "                                           ... \n",
       "systemic lupus erythematosus                  1\n",
       "anal fissure                                  1\n",
       "malignant neoplasm of salivary gland          1\n",
       "biliary acute pancreatitis                    1\n",
       "colon submucosal tumor, unknown behavior      1\n",
       "Name: count, Length: 842, dtype: int64"
      ]
     },
     "execution_count": 4,
     "metadata": {},
     "output_type": "execute_result"
    }
   ],
   "source": [
    "df['dx'].value_counts()"
   ]
  },
  {
   "cell_type": "code",
   "execution_count": 5,
   "metadata": {},
   "outputs": [],
   "source": [
    "diagnoses = pd.Series(df['dx'].unique())"
   ]
  },
  {
   "cell_type": "code",
   "execution_count": 6,
   "metadata": {},
   "outputs": [
    {
     "data": {
      "text/plain": [
       "67"
      ]
     },
     "execution_count": 6,
     "metadata": {},
     "output_type": "execute_result"
    }
   ],
   "source": [
    "single_worded_diagnoses = pd.Series([d for d in diagnoses if ' ' not in d])\n",
    "len(single_worded_diagnoses)"
   ]
  },
  {
   "cell_type": "code",
   "execution_count": 7,
   "metadata": {},
   "outputs": [],
   "source": [
    "mapping = {}\n",
    "for d in single_worded_diagnoses:\n",
    "    for x in diagnoses[diagnoses.str.contains(d)]:\n",
    "        if x != d:\n",
    "            mapping[x] = d\n",
    "\n",
    "with open('mapping.json', 'w') as f:\n",
    "    json.dump(mapping, f)"
   ]
  },
  {
   "cell_type": "code",
   "execution_count": 8,
   "metadata": {},
   "outputs": [],
   "source": [
    "diagnoses = diagnoses.replace(mapping)\n",
    "diagnoses = pd.Series(diagnoses.unique())\n",
    "df['dx'] = df['dx'].replace(mapping)"
   ]
  },
  {
   "cell_type": "code",
   "execution_count": 9,
   "metadata": {},
   "outputs": [
    {
     "data": {
      "text/plain": [
       "207"
      ]
     },
     "execution_count": 9,
     "metadata": {},
     "output_type": "execute_result"
    }
   ],
   "source": [
    "two_worded_diagnoses = pd.Series([d for d in diagnoses if len(d.split()) == 2])\n",
    "len(two_worded_diagnoses)"
   ]
  },
  {
   "cell_type": "code",
   "execution_count": 10,
   "metadata": {},
   "outputs": [],
   "source": [
    "mapping = {}\n",
    "for d in two_worded_diagnoses:\n",
    "    for x in diagnoses[diagnoses.str.contains(d)]:\n",
    "        if x != d:\n",
    "            mapping[x] = d\n",
    "\n",
    "with open('mapping.json', 'w') as f:\n",
    "    json.dump(mapping, f)"
   ]
  },
  {
   "cell_type": "code",
   "execution_count": 11,
   "metadata": {},
   "outputs": [],
   "source": [
    "exemptions = [\"colorectal cancer\", \"gallbladder cancer\"]\n",
    "mapping = {k: v for k, v in mapping.items() if k not in exemptions}\n",
    "diagnoses = diagnoses.replace(mapping)\n",
    "df['dx'] = df['dx'].replace(mapping)\n",
    "diagnoses = pd.Series(diagnoses.unique())"
   ]
  },
  {
   "cell_type": "code",
   "execution_count": 12,
   "metadata": {},
   "outputs": [
    {
     "data": {
      "text/plain": [
       "107"
      ]
     },
     "execution_count": 12,
     "metadata": {},
     "output_type": "execute_result"
    }
   ],
   "source": [
    "three_worded_diagnoses = pd.Series([d for d in diagnoses if len(d.split()) == 3])\n",
    "len(three_worded_diagnoses)"
   ]
  },
  {
   "cell_type": "code",
   "execution_count": 13,
   "metadata": {},
   "outputs": [],
   "source": [
    "mapping = {}\n",
    "for d in three_worded_diagnoses:\n",
    "    for x in diagnoses[diagnoses.str.contains(d)]:\n",
    "        if x != d:\n",
    "            mapping[x] = d\n",
    "\n",
    "with open('mapping.json', 'w') as f:\n",
    "    json.dump(mapping, f)"
   ]
  },
  {
   "cell_type": "code",
   "execution_count": 14,
   "metadata": {},
   "outputs": [],
   "source": [
    "further_aggregated = {\n",
    "    'gastric cancer': 'gastric cancer',\n",
    "    'inguinal hernia': 'inguinal hernia',\n",
    "    'renal cell carcinoma': 'renal cell carcinoma',\n",
    "}\n",
    "for k, v in mapping.items():\n",
    "    for k1, v1 in further_aggregated.items():\n",
    "        if k1 in k:\n",
    "            mapping[k] = v1\n",
    "\n",
    "with open('mapping.json', 'w') as f:\n",
    "    json.dump(mapping, f)"
   ]
  },
  {
   "cell_type": "code",
   "execution_count": 15,
   "metadata": {},
   "outputs": [],
   "source": [
    "diagnoses = diagnoses.replace(mapping)\n",
    "diagnoses = pd.Series(diagnoses.unique())\n",
    "df['dx'] = df['dx'].replace(mapping)"
   ]
  },
  {
   "cell_type": "code",
   "execution_count": 16,
   "metadata": {},
   "outputs": [],
   "source": [
    "df.loc[df['dx'].isin(df['dx'].value_counts()[df['dx'].value_counts() < 2].index), 'dx'] = 'other'"
   ]
  },
  {
   "cell_type": "code",
   "execution_count": 17,
   "metadata": {},
   "outputs": [
    {
     "data": {
      "text/plain": [
       "dx\n",
       "Colon cancer                        549\n",
       "Early gastric cancer                366\n",
       "Other                               320\n",
       "Lung cancer                         315\n",
       "Rectal cancer                       270\n",
       "                                   ... \n",
       "Metastatic cancer to the abdomen      2\n",
       "Metastasis of unknown origin          2\n",
       "Mediastinal tumor                     2\n",
       "Carcinoid tumor of lung left          2\n",
       "Fournier's gangrene, male             2\n",
       "Length: 287, dtype: int64"
      ]
     },
     "execution_count": 17,
     "metadata": {},
     "output_type": "execute_result"
    }
   ],
   "source": [
    "df['dx'] = df['dx'].str.capitalize()\n",
    "df.groupby('dx').size().sort_values(ascending=False)"
   ]
  },
  {
   "cell_type": "code",
   "execution_count": 18,
   "metadata": {},
   "outputs": [
    {
     "data": {
      "text/plain": [
       "dx\n",
       "Colon cancer                                  549\n",
       "Early gastric cancer                          366\n",
       "Other                                         320\n",
       "Lung cancer                                   315\n",
       "Rectal cancer                                 270\n",
       "                                             ... \n",
       "Endometrial cancer, stage 1a                    2\n",
       "Fournier's gangrene, male                       2\n",
       "Liver function tests abnormality                2\n",
       "Duodenal polyp                                  2\n",
       "Intrahepatic duct stonewithout obstruction      2\n",
       "Name: count, Length: 287, dtype: int64"
      ]
     },
     "execution_count": 18,
     "metadata": {},
     "output_type": "execute_result"
    }
   ],
   "source": [
    "df['dx'].value_counts()"
   ]
  },
  {
   "cell_type": "code",
   "execution_count": 19,
   "metadata": {},
   "outputs": [],
   "source": [
    "df.to_csv('data/data_cleaned.csv', index=False)"
   ]
  },
  {
   "cell_type": "code",
   "execution_count": null,
   "metadata": {},
   "outputs": [],
   "source": []
  }
 ],
 "metadata": {
  "kernelspec": {
   "display_name": "base",
   "language": "python",
   "name": "python3"
  },
  "language_info": {
   "codemirror_mode": {
    "name": "ipython",
    "version": 3
   },
   "file_extension": ".py",
   "mimetype": "text/x-python",
   "name": "python",
   "nbconvert_exporter": "python",
   "pygments_lexer": "ipython3",
   "version": "3.12.3"
  }
 },
 "nbformat": 4,
 "nbformat_minor": 2
}
