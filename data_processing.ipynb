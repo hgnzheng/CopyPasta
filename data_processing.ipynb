{
 "cells": [
  {
   "cell_type": "code",
   "execution_count": 20,
   "metadata": {},
   "outputs": [],
   "source": [
    "import pandas as pd\n",
    "import json"
   ]
  },
  {
   "cell_type": "code",
   "execution_count": 21,
   "metadata": {},
   "outputs": [],
   "source": [
    "df = pd.read_csv('data/data.csv')"
   ]
  },
  {
   "cell_type": "code",
   "execution_count": 22,
   "metadata": {},
   "outputs": [],
   "source": [
    "df['dx'] = df['dx'].str.strip().str.lower()"
   ]
  },
  {
   "cell_type": "code",
   "execution_count": 23,
   "metadata": {},
   "outputs": [
    {
     "data": {
      "text/plain": [
       "dx\n",
       "early gastric cancer                        366\n",
       "rectal cancer                               270\n",
       "hepatocellular carcinoma                    247\n",
       "colon cancer, sigmoid                       207\n",
       "thyroid nodule                              202\n",
       "                                           ... \n",
       "systemic lupus erythematosus                  1\n",
       "anal fissure                                  1\n",
       "malignant neoplasm of salivary gland          1\n",
       "biliary acute pancreatitis                    1\n",
       "colon submucosal tumor, unknown behavior      1\n",
       "Name: count, Length: 842, dtype: int64"
      ]
     },
     "execution_count": 23,
     "metadata": {},
     "output_type": "execute_result"
    }
   ],
   "source": [
    "df['dx'].value_counts()"
   ]
  },
  {
   "cell_type": "code",
   "execution_count": 24,
   "metadata": {},
   "outputs": [],
   "source": [
    "diagnoses = pd.Series(df['dx'].unique())"
   ]
  },
  {
   "cell_type": "code",
   "execution_count": 25,
   "metadata": {},
   "outputs": [
    {
     "data": {
      "text/plain": [
       "67"
      ]
     },
     "execution_count": 25,
     "metadata": {},
     "output_type": "execute_result"
    }
   ],
   "source": [
    "single_worded_diagnoses = pd.Series([d for d in diagnoses if ' ' not in d])\n",
    "len(single_worded_diagnoses)"
   ]
  },
  {
   "cell_type": "code",
   "execution_count": 26,
   "metadata": {},
   "outputs": [],
   "source": [
    "mapping = {}\n",
    "for d in single_worded_diagnoses:\n",
    "    for x in diagnoses[diagnoses.str.contains(d)]:\n",
    "        if x != d:\n",
    "            mapping[x] = d\n",
    "\n",
    "with open('mapping.json', 'w') as f:\n",
    "    json.dump(mapping, f)"
   ]
  },
  {
   "cell_type": "code",
   "execution_count": 27,
   "metadata": {},
   "outputs": [],
   "source": [
    "diagnoses = diagnoses.replace(mapping)\n",
    "diagnoses = pd.Series(diagnoses.unique())\n",
    "df['dx'] = df['dx'].replace(mapping)"
   ]
  },
  {
   "cell_type": "code",
   "execution_count": 28,
   "metadata": {},
   "outputs": [
    {
     "data": {
      "text/plain": [
       "207"
      ]
     },
     "execution_count": 28,
     "metadata": {},
     "output_type": "execute_result"
    }
   ],
   "source": [
    "two_worded_diagnoses = pd.Series([d for d in diagnoses if len(d.split()) == 2])\n",
    "len(two_worded_diagnoses)"
   ]
  },
  {
   "cell_type": "code",
   "execution_count": 29,
   "metadata": {},
   "outputs": [],
   "source": [
    "mapping = {}\n",
    "for d in two_worded_diagnoses:\n",
    "    for x in diagnoses[diagnoses.str.contains(d)]:\n",
    "        if x != d:\n",
    "            mapping[x] = d\n",
    "\n",
    "with open('mapping.json', 'w') as f:\n",
    "    json.dump(mapping, f)"
   ]
  },
  {
   "cell_type": "code",
   "execution_count": 30,
   "metadata": {},
   "outputs": [],
   "source": [
    "exemptions = [\"colorectal cancer\", \"gallbladder cancer\"]\n",
    "mapping = {k: v for k, v in mapping.items() if k not in exemptions}\n",
    "diagnoses = diagnoses.replace(mapping)\n",
    "df['dx'] = df['dx'].replace(mapping)\n",
    "diagnoses = pd.Series(diagnoses.unique())"
   ]
  },
  {
   "cell_type": "code",
   "execution_count": 31,
   "metadata": {},
   "outputs": [
    {
     "data": {
      "text/plain": [
       "107"
      ]
     },
     "execution_count": 31,
     "metadata": {},
     "output_type": "execute_result"
    }
   ],
   "source": [
    "three_worded_diagnoses = pd.Series([d for d in diagnoses if len(d.split()) == 3])\n",
    "len(three_worded_diagnoses)"
   ]
  },
  {
   "cell_type": "code",
   "execution_count": 32,
   "metadata": {},
   "outputs": [],
   "source": [
    "mapping = {}\n",
    "for d in three_worded_diagnoses:\n",
    "    for x in diagnoses[diagnoses.str.contains(d)]:\n",
    "        if x != d:\n",
    "            mapping[x] = d\n",
    "\n",
    "with open('mapping.json', 'w') as f:\n",
    "    json.dump(mapping, f)"
   ]
  },
  {
   "cell_type": "code",
   "execution_count": 33,
   "metadata": {},
   "outputs": [],
   "source": [
    "further_aggregated = {\n",
    "    'gastric cancer': 'gastric cancer',\n",
    "    'inguinal hernia': 'inguinal hernia',\n",
    "    'renal cell carcinoma': 'renal cell carcinoma',\n",
    "}\n",
    "for k, v in mapping.items():\n",
    "    for k1, v1 in further_aggregated.items():\n",
    "        if k1 in k:\n",
    "            mapping[k] = v1\n",
    "\n",
    "with open('mapping.json', 'w') as f:\n",
    "    json.dump(mapping, f)"
   ]
  },
  {
   "cell_type": "code",
   "execution_count": 34,
   "metadata": {},
   "outputs": [],
   "source": [
    "diagnoses = diagnoses.replace(mapping)\n",
    "diagnoses = pd.Series(diagnoses.unique())\n",
    "df['dx'] = df['dx'].replace(mapping)"
   ]
  },
  {
   "cell_type": "code",
   "execution_count": 35,
   "metadata": {},
   "outputs": [],
   "source": [
    "# df.loc[df['dx'].isin(df['dx'].value_counts()[df['dx'].value_counts() < 2].index), 'dx'] = 'other'\n",
    "df = df.loc[df['dx'].isin(df['dx'].value_counts()[df['dx'].value_counts() > 9].index)]"
   ]
  },
  {
   "cell_type": "code",
   "execution_count": 36,
   "metadata": {},
   "outputs": [
    {
     "data": {
      "text/plain": [
       "dx\n",
       "Colon cancer                              549\n",
       "Early gastric cancer                      366\n",
       "Lung cancer                               315\n",
       "Rectal cancer                             270\n",
       "Gallbladder stone                         260\n",
       "                                         ... \n",
       "Adenocarcinoma of lung                     11\n",
       "Common bile duct cancer, distal            10\n",
       "Crohn's disease                            10\n",
       "Antenatal care for high risk pregnancy     10\n",
       "Melanoma                                   10\n",
       "Length: 90, dtype: int64"
      ]
     },
     "execution_count": 36,
     "metadata": {},
     "output_type": "execute_result"
    }
   ],
   "source": [
    "df['dx'] = df['dx'].str.capitalize()\n",
    "df.groupby('dx').size().sort_values(ascending=False)"
   ]
  },
  {
   "cell_type": "code",
   "execution_count": 37,
   "metadata": {},
   "outputs": [
    {
     "data": {
      "text/plain": [
       "dx\n",
       "Colon cancer                              549\n",
       "Early gastric cancer                      366\n",
       "Lung cancer                               315\n",
       "Rectal cancer                             270\n",
       "Gallbladder stone                         260\n",
       "                                         ... \n",
       "Appendix mucocele                          11\n",
       "Common bile duct cancer, distal            10\n",
       "Antenatal care for high risk pregnancy     10\n",
       "Crohn's disease                            10\n",
       "Melanoma                                   10\n",
       "Name: count, Length: 90, dtype: int64"
      ]
     },
     "execution_count": 37,
     "metadata": {},
     "output_type": "execute_result"
    }
   ],
   "source": [
    "df['dx'].value_counts()"
   ]
  },
  {
   "cell_type": "code",
   "execution_count": 38,
   "metadata": {},
   "outputs": [],
   "source": [
    "df.to_csv('data/data_cleaned_filtered.csv', index=False)"
   ]
  },
  {
   "cell_type": "code",
   "execution_count": null,
   "metadata": {},
   "outputs": [],
   "source": []
  }
 ],
 "metadata": {
  "kernelspec": {
   "display_name": "base",
   "language": "python",
   "name": "python3"
  },
  "language_info": {
   "codemirror_mode": {
    "name": "ipython",
    "version": 3
   },
   "file_extension": ".py",
   "mimetype": "text/x-python",
   "name": "python",
   "nbconvert_exporter": "python",
   "pygments_lexer": "ipython3",
   "version": "3.12.3"
  }
 },
 "nbformat": 4,
 "nbformat_minor": 2
}
